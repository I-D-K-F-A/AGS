{
 "cells": [
  {
   "cell_type": "code",
   "execution_count": 1,
   "metadata": {},
   "outputs": [],
   "source": [
    "import folium\n",
    "import ftplib\n",
    "from folium import plugins\n",
    "import pandas as pd\n",
    "import requests\n",
    "from urllib.parse import urljoin\n",
    "import ftplib\n",
    "host = 'data-lab.kremppi.com'\n",
    "ftp_user = ''\n",
    "ftp_password = ''\n",
    "username = ''\n",
    "token = ''\n",
    "pythonanywhere_host = \"www.pythonanywhere.com\"\n",
    "api_base = \"https://{pythonanywhere_host}/api/v0/user/{username}/\".format(\n",
    "    pythonanywhere_host=pythonanywhere_host,\n",
    "    username=username,\n",
    ")"
   ]
  },
  {
   "cell_type": "code",
   "execution_count": 21,
   "metadata": {
    "scrolled": true
   },
   "outputs": [
    {
     "data": {
      "text/html": [
       "<div>\n",
       "<style scoped>\n",
       "    .dataframe tbody tr th:only-of-type {\n",
       "        vertical-align: middle;\n",
       "    }\n",
       "\n",
       "    .dataframe tbody tr th {\n",
       "        vertical-align: top;\n",
       "    }\n",
       "\n",
       "    .dataframe thead th {\n",
       "        text-align: right;\n",
       "    }\n",
       "</style>\n",
       "<table border=\"1\" class=\"dataframe\">\n",
       "  <thead>\n",
       "    <tr style=\"text-align: right;\">\n",
       "      <th></th>\n",
       "      <th>date%time</th>\n",
       "      <th>lat</th>\n",
       "      <th>long</th>\n",
       "      <th>temp</th>\n",
       "      <th>windvel</th>\n",
       "      <th>winddir</th>\n",
       "      <th>humidity</th>\n",
       "      <th>pressure</th>\n",
       "      <th>description</th>\n",
       "    </tr>\n",
       "  </thead>\n",
       "  <tbody>\n",
       "    <tr>\n",
       "      <td>0</td>\n",
       "      <td>2020-02-13  17:45:29+00</td>\n",
       "      <td>46.345354</td>\n",
       "      <td>47.969263</td>\n",
       "      <td>-1.90</td>\n",
       "      <td>5.2</td>\n",
       "      <td>250</td>\n",
       "      <td>60</td>\n",
       "      <td>764.18</td>\n",
       "      <td>Запах гари 3</td>\n",
       "    </tr>\n",
       "    <tr>\n",
       "      <td>1</td>\n",
       "      <td>2020-02-14  07:39:20+00</td>\n",
       "      <td>46.335238</td>\n",
       "      <td>48.115489</td>\n",
       "      <td>-1.99</td>\n",
       "      <td>9.6</td>\n",
       "      <td>272</td>\n",
       "      <td>70</td>\n",
       "      <td>768.00</td>\n",
       "      <td>Химический</td>\n",
       "    </tr>\n",
       "  </tbody>\n",
       "</table>\n",
       "</div>"
      ],
      "text/plain": [
       "                   date%time        lat       long  temp  windvel  winddir  \\\n",
       "0   2020-02-13  17:45:29+00   46.345354  47.969263 -1.90      5.2      250   \n",
       "1   2020-02-14  07:39:20+00   46.335238  48.115489 -1.99      9.6      272   \n",
       "\n",
       "   humidity  pressure   description  \n",
       "0        60    764.18  Запах гари 3  \n",
       "1        70    768.00    Химический  "
      ]
     },
     "execution_count": 21,
     "metadata": {},
     "output_type": "execute_result"
    }
   ],
   "source": [
    "resp = requests.get(urljoin(api_base, \"files/path/home/{username}/log.csv\".format(username=username)), headers = {\"Authorization\": \"Token {api_token}\".format(api_token=token)})\n",
    "\n",
    "with open('log.csv', 'wb') as f:\n",
    "    f.write(resp.content)\n",
    "\n",
    "data = pd.read_csv(\"log.csv\", sep='&')\n",
    "\n",
    "data\n",
    "\n"
   ]
  },
  {
   "cell_type": "code",
   "execution_count": 33,
   "metadata": {},
   "outputs": [],
   "source": [
    "m = folium.Map(location=[46.35, 48.05], zoom_start=12)\n",
    "\n",
    "for index, row in data.iterrows():\n",
    "    folium.CircleMarker([row['lat'], row['long']],\n",
    "                        radius=2,\n",
    "                        popup=row['description'] + row['date%time'] + 'Напрваление ветра: ' + str(row['winddir']) + ' град.',\n",
    "                        fill_color=\"#3db7e4\", \n",
    "                       ).add_to(m)\n",
    "fog = data[['lat', 'long']]\n",
    "    \n",
    "m.add_child(plugins.HeatMap(fog, radius=15))\n",
    "m.save('map.html')"
   ]
  },
  {
   "cell_type": "code",
   "execution_count": 34,
   "metadata": {},
   "outputs": [
    {
     "data": {
      "text/plain": [
       "'226 Transfer complete'"
      ]
     },
     "execution_count": 34,
     "metadata": {},
     "output_type": "execute_result"
    }
   ],
   "source": [
    "ftp = ftplib.FTP(host, ftp_user, ftp_password)\n",
    "\n",
    "file = 'map.html'\n",
    "file_to_upload = open(file, 'rb')\n",
    "ftp.storbinary('STOR www/data-lab.kremppi.com/' + file, file_to_upload)\n",
    "\n",
    "file = 'log.csv'\n",
    "file_to_upload = open(file, 'rb')\n",
    "ftp.storbinary('STOR www/data-lab.kremppi.com/' + file, file_to_upload)"
   ]
  },
  {
   "cell_type": "code",
   "execution_count": null,
   "metadata": {},
   "outputs": [],
   "source": []
  }
 ],
 "metadata": {
  "kernelspec": {
   "display_name": "Python 3",
   "language": "python",
   "name": "python3"
  },
  "language_info": {
   "codemirror_mode": {
    "name": "ipython",
    "version": 3
   },
   "file_extension": ".py",
   "mimetype": "text/x-python",
   "name": "python",
   "nbconvert_exporter": "python",
   "pygments_lexer": "ipython3",
   "version": "3.7.4"
  }
 },
 "nbformat": 4,
 "nbformat_minor": 2
}
