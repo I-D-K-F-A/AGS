{
 "cells": [
  {
   "cell_type": "code",
   "execution_count": 24,
   "metadata": {},
   "outputs": [
    {
     "data": {
      "text/plain": [
       "'226 Transfer complete'"
      ]
     },
     "execution_count": 24,
     "metadata": {},
     "output_type": "execute_result"
    }
   ],
   "source": [
    "import ftplib\n",
    "host = 'data-lab.kremppi.com'\n",
    "ftp_user = ''\n",
    "ftp_password = ''\n",
    " \n",
    "ftp = ftplib.FTP(host, ftp_user, ftp_password)\n",
    "\n",
    "file = 'map.html'\n",
    "file_to_upload = open(file, 'rb')\n",
    "ftp.storbinary('STOR www/data-lab.kremppi.com/' + file, file_to_upload)\n",
    "\n",
    "file = 'log.csv'\n",
    "file_to_upload = open(file, 'rb')\n",
    "ftp.storbinary('STOR www/data-lab.kremppi.com/' + file, file_to_upload)\n",
    "\n"
   ]
  },
  {
   "cell_type": "code",
   "execution_count": null,
   "metadata": {},
   "outputs": [],
   "source": []
  }
 ],
 "metadata": {
  "kernelspec": {
   "display_name": "Python 3",
   "language": "python",
   "name": "python3"
  },
  "language_info": {
   "codemirror_mode": {
    "name": "ipython",
    "version": 3
   },
   "file_extension": ".py",
   "mimetype": "text/x-python",
   "name": "python",
   "nbconvert_exporter": "python",
   "pygments_lexer": "ipython3",
   "version": "3.7.4"
  }
 },
 "nbformat": 4,
 "nbformat_minor": 2
}
